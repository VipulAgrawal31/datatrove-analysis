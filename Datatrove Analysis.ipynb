{
 "cells": [
  {
   "cell_type": "code",
   "execution_count": 48,
   "metadata": {},
   "outputs": [
    {
     "data": {
      "text/html": [
       "<div>\n",
       "<style scoped>\n",
       "    .dataframe tbody tr th:only-of-type {\n",
       "        vertical-align: middle;\n",
       "    }\n",
       "\n",
       "    .dataframe tbody tr th {\n",
       "        vertical-align: top;\n",
       "    }\n",
       "\n",
       "    .dataframe thead th {\n",
       "        text-align: right;\n",
       "    }\n",
       "</style>\n",
       "<table border=\"1\" class=\"dataframe\">\n",
       "  <thead>\n",
       "    <tr style=\"text-align: right;\">\n",
       "      <th></th>\n",
       "      <th>S No.</th>\n",
       "      <th>Registration Number</th>\n",
       "      <th>Full Name</th>\n",
       "      <th>Section Name</th>\n",
       "      <th>Unnamed: 4</th>\n",
       "      <th>Placement Option</th>\n",
       "      <th>Training Option</th>\n",
       "      <th>Transaction Ref No</th>\n",
       "      <th>CRT Amount</th>\n",
       "      <th>Placement Option.1</th>\n",
       "      <th>CRT Amount.1</th>\n",
       "      <th>Transaction Details Matching</th>\n",
       "      <th>Amount Matching</th>\n",
       "    </tr>\n",
       "  </thead>\n",
       "  <tbody>\n",
       "    <tr>\n",
       "      <th>0</th>\n",
       "      <td>NaN</td>\n",
       "      <td>NaN</td>\n",
       "      <td>NaN</td>\n",
       "      <td>NaN</td>\n",
       "      <td>NaN</td>\n",
       "      <td>deferred_placements</td>\n",
       "      <td>crt-only</td>\n",
       "      <td>NaN</td>\n",
       "      <td>NaN</td>\n",
       "      <td>NaN</td>\n",
       "      <td>NaN</td>\n",
       "      <td>NaN</td>\n",
       "      <td>NaN</td>\n",
       "    </tr>\n",
       "    <tr>\n",
       "      <th>1</th>\n",
       "      <td>1.0</td>\n",
       "      <td>1.218101e+11</td>\n",
       "      <td>Adarsh Ak</td>\n",
       "      <td>F1</td>\n",
       "      <td>Dr.B.Sarada</td>\n",
       "      <td>higher_studies</td>\n",
       "      <td>NaN</td>\n",
       "      <td>NaN</td>\n",
       "      <td>NaN</td>\n",
       "      <td>NaN</td>\n",
       "      <td>NaN</td>\n",
       "      <td>NaN</td>\n",
       "      <td>NaN</td>\n",
       "    </tr>\n",
       "    <tr>\n",
       "      <th>2</th>\n",
       "      <td>2.0</td>\n",
       "      <td>1.218101e+11</td>\n",
       "      <td>Shruti Sinha</td>\n",
       "      <td>F1</td>\n",
       "      <td>Dr.B.Sarada</td>\n",
       "      <td>higher_studies</td>\n",
       "      <td>NaN</td>\n",
       "      <td>NaN</td>\n",
       "      <td>NaN</td>\n",
       "      <td>NaN</td>\n",
       "      <td>NaN</td>\n",
       "      <td>NaN</td>\n",
       "      <td>NaN</td>\n",
       "    </tr>\n",
       "    <tr>\n",
       "      <th>3</th>\n",
       "      <td>3.0</td>\n",
       "      <td>1.218101e+11</td>\n",
       "      <td>Pilla Mani Harika</td>\n",
       "      <td>F1</td>\n",
       "      <td>Dr.B.Sarada</td>\n",
       "      <td>deferred_placements</td>\n",
       "      <td>crt+coding</td>\n",
       "      <td>NaN</td>\n",
       "      <td>NaN</td>\n",
       "      <td>NaN</td>\n",
       "      <td>NaN</td>\n",
       "      <td>NaN</td>\n",
       "      <td>NaN</td>\n",
       "    </tr>\n",
       "    <tr>\n",
       "      <th>4</th>\n",
       "      <td>4.0</td>\n",
       "      <td>1.218101e+11</td>\n",
       "      <td>Jogi Pavan Kumar Nani</td>\n",
       "      <td>F1</td>\n",
       "      <td>Dr.B.Sarada</td>\n",
       "      <td>higher_studies</td>\n",
       "      <td>crt-only</td>\n",
       "      <td>NaN</td>\n",
       "      <td>NaN</td>\n",
       "      <td>NaN</td>\n",
       "      <td>NaN</td>\n",
       "      <td>NaN</td>\n",
       "      <td>NaN</td>\n",
       "    </tr>\n",
       "    <tr>\n",
       "      <th>...</th>\n",
       "      <td>...</td>\n",
       "      <td>...</td>\n",
       "      <td>...</td>\n",
       "      <td>...</td>\n",
       "      <td>...</td>\n",
       "      <td>...</td>\n",
       "      <td>...</td>\n",
       "      <td>...</td>\n",
       "      <td>...</td>\n",
       "      <td>...</td>\n",
       "      <td>...</td>\n",
       "      <td>...</td>\n",
       "      <td>...</td>\n",
       "    </tr>\n",
       "    <tr>\n",
       "      <th>1466</th>\n",
       "      <td>1466.0</td>\n",
       "      <td>1.218108e+11</td>\n",
       "      <td>MOHAMMED AFTAAB</td>\n",
       "      <td>H2</td>\n",
       "      <td>Sri. K. Sankaranarayana</td>\n",
       "      <td>placements</td>\n",
       "      <td>crt+coding</td>\n",
       "      <td>NaN</td>\n",
       "      <td>NaN</td>\n",
       "      <td>NaN</td>\n",
       "      <td>NaN</td>\n",
       "      <td>NaN</td>\n",
       "      <td>NaN</td>\n",
       "    </tr>\n",
       "    <tr>\n",
       "      <th>1467</th>\n",
       "      <td>1467.0</td>\n",
       "      <td>1.218108e+11</td>\n",
       "      <td>VANJARAPU ANUP</td>\n",
       "      <td>H2</td>\n",
       "      <td>Sri. K. Sankaranarayana</td>\n",
       "      <td>placements</td>\n",
       "      <td>crt+coding</td>\n",
       "      <td>NaN</td>\n",
       "      <td>NaN</td>\n",
       "      <td>NaN</td>\n",
       "      <td>NaN</td>\n",
       "      <td>NaN</td>\n",
       "      <td>NaN</td>\n",
       "    </tr>\n",
       "    <tr>\n",
       "      <th>1468</th>\n",
       "      <td>1468.0</td>\n",
       "      <td>1.218108e+11</td>\n",
       "      <td>LINCE THANKACHAN</td>\n",
       "      <td>H2</td>\n",
       "      <td>Sri. K. Sankaranarayana</td>\n",
       "      <td>placements</td>\n",
       "      <td>crt-only</td>\n",
       "      <td>NaN</td>\n",
       "      <td>NaN</td>\n",
       "      <td>NaN</td>\n",
       "      <td>NaN</td>\n",
       "      <td>NaN</td>\n",
       "      <td>NaN</td>\n",
       "    </tr>\n",
       "    <tr>\n",
       "      <th>1469</th>\n",
       "      <td>1469.0</td>\n",
       "      <td>1.218108e+11</td>\n",
       "      <td>P NAGA SAI GANESH ANURAG</td>\n",
       "      <td>H2</td>\n",
       "      <td>Sri. K. Sankaranarayana</td>\n",
       "      <td>placements</td>\n",
       "      <td>crt+coding</td>\n",
       "      <td>NaN</td>\n",
       "      <td>NaN</td>\n",
       "      <td>VUR29761393073</td>\n",
       "      <td>11500.0</td>\n",
       "      <td>0.0</td>\n",
       "      <td>0.0</td>\n",
       "    </tr>\n",
       "    <tr>\n",
       "      <th>1470</th>\n",
       "      <td>1470.0</td>\n",
       "      <td>1.218108e+11</td>\n",
       "      <td>GONDELA NITISH KUMAR</td>\n",
       "      <td>H2</td>\n",
       "      <td>Sri. K. Sankaranarayana</td>\n",
       "      <td>NaN</td>\n",
       "      <td>NaN</td>\n",
       "      <td>NaN</td>\n",
       "      <td>NaN</td>\n",
       "      <td>NaN</td>\n",
       "      <td>NaN</td>\n",
       "      <td>NaN</td>\n",
       "      <td>NaN</td>\n",
       "    </tr>\n",
       "  </tbody>\n",
       "</table>\n",
       "<p>1471 rows × 13 columns</p>\n",
       "</div>"
      ],
      "text/plain": [
       "       S No.  Registration Number                 Full Name Section Name  \\\n",
       "0        NaN                  NaN                       NaN          NaN   \n",
       "1        1.0         1.218101e+11                 Adarsh Ak           F1   \n",
       "2        2.0         1.218101e+11              Shruti Sinha           F1   \n",
       "3        3.0         1.218101e+11         Pilla Mani Harika           F1   \n",
       "4        4.0         1.218101e+11     Jogi Pavan Kumar Nani           F1   \n",
       "...      ...                  ...                       ...          ...   \n",
       "1466  1466.0         1.218108e+11           MOHAMMED AFTAAB           H2   \n",
       "1467  1467.0         1.218108e+11            VANJARAPU ANUP           H2   \n",
       "1468  1468.0         1.218108e+11          LINCE THANKACHAN           H2   \n",
       "1469  1469.0         1.218108e+11  P NAGA SAI GANESH ANURAG           H2   \n",
       "1470  1470.0         1.218108e+11     GONDELA NITISH KUMAR            H2   \n",
       "\n",
       "                   Unnamed: 4     Placement Option Training Option  \\\n",
       "0                         NaN  deferred_placements        crt-only   \n",
       "1                 Dr.B.Sarada       higher_studies             NaN   \n",
       "2                 Dr.B.Sarada       higher_studies             NaN   \n",
       "3                 Dr.B.Sarada  deferred_placements      crt+coding   \n",
       "4                 Dr.B.Sarada       higher_studies        crt-only   \n",
       "...                       ...                  ...             ...   \n",
       "1466  Sri. K. Sankaranarayana           placements      crt+coding   \n",
       "1467  Sri. K. Sankaranarayana           placements      crt+coding   \n",
       "1468  Sri. K. Sankaranarayana           placements        crt-only   \n",
       "1469  Sri. K. Sankaranarayana           placements      crt+coding   \n",
       "1470  Sri. K. Sankaranarayana                  NaN             NaN   \n",
       "\n",
       "     Transaction Ref No  CRT Amount Placement Option.1  CRT Amount.1  \\\n",
       "0                   NaN         NaN                NaN           NaN   \n",
       "1                   NaN         NaN                NaN           NaN   \n",
       "2                   NaN         NaN                NaN           NaN   \n",
       "3                   NaN         NaN                NaN           NaN   \n",
       "4                   NaN         NaN                NaN           NaN   \n",
       "...                 ...         ...                ...           ...   \n",
       "1466                NaN         NaN                NaN           NaN   \n",
       "1467                NaN         NaN                NaN           NaN   \n",
       "1468                NaN         NaN                NaN           NaN   \n",
       "1469                NaN         NaN     VUR29761393073       11500.0   \n",
       "1470                NaN         NaN                NaN           NaN   \n",
       "\n",
       "      Transaction Details Matching  Amount Matching  \n",
       "0                              NaN              NaN  \n",
       "1                              NaN              NaN  \n",
       "2                              NaN              NaN  \n",
       "3                              NaN              NaN  \n",
       "4                              NaN              NaN  \n",
       "...                            ...              ...  \n",
       "1466                           NaN              NaN  \n",
       "1467                           NaN              NaN  \n",
       "1468                           NaN              NaN  \n",
       "1469                           0.0              0.0  \n",
       "1470                           NaN              NaN  \n",
       "\n",
       "[1471 rows x 13 columns]"
      ]
     },
     "execution_count": 48,
     "metadata": {},
     "output_type": "execute_result"
    }
   ],
   "source": [
    "import pandas as pd\n",
    "import matplotlib.pyplot as plt\n",
    "import seaborn as sns\n",
    "%matplotlib inline\n",
    "df = pd.read_excel('Datatrove.xlsx')\n",
    "df"
   ]
  },
  {
   "cell_type": "code",
   "execution_count": 38,
   "metadata": {},
   "outputs": [
    {
     "data": {
      "text/plain": [
       "S No.                           1470\n",
       "Registration Number             1470\n",
       "Full Name                       1470\n",
       "Section Name                    1470\n",
       "Unnamed: 4                      1470\n",
       "Placement Option                1454\n",
       "Training Option                 1267\n",
       "Transaction Ref No               641\n",
       "CRT Amount                       644\n",
       "Placement Option.1               995\n",
       "CRT Amount.1                     995\n",
       "Transaction Details Matching     995\n",
       "Amount Matching                  995\n",
       "dtype: int64"
      ]
     },
     "execution_count": 38,
     "metadata": {},
     "output_type": "execute_result"
    }
   ],
   "source": [
    "df.count()"
   ]
  },
  {
   "cell_type": "code",
   "execution_count": 27,
   "metadata": {},
   "outputs": [
    {
     "data": {
      "text/plain": [
       "1182"
      ]
     },
     "execution_count": 27,
     "metadata": {},
     "output_type": "execute_result"
    }
   ],
   "source": [
    "# placements\n",
    "details = df.apply(lambda x : True if x['Placement Option'] == \"placements\" else False, axis = 1) \n",
    "num_rows = len(details[details == True].index) \n",
    "num_rows"
   ]
  },
  {
   "cell_type": "code",
   "execution_count": 28,
   "metadata": {},
   "outputs": [
    {
     "data": {
      "text/plain": [
       "95"
      ]
     },
     "execution_count": 28,
     "metadata": {},
     "output_type": "execute_result"
    }
   ],
   "source": [
    "# deffered placements\n",
    "\n",
    "details = df.apply(lambda x : True if x['Placement Option'] == \"deferred_placements\" else False, axis = 1) \n",
    "num_rows = len(details[details == True].index) \n",
    "num_rows"
   ]
  },
  {
   "cell_type": "code",
   "execution_count": 29,
   "metadata": {},
   "outputs": [
    {
     "data": {
      "text/plain": [
       "177"
      ]
     },
     "execution_count": 29,
     "metadata": {},
     "output_type": "execute_result"
    }
   ],
   "source": [
    "# higher_studies\n",
    "\n",
    "details = df.apply(lambda x : True if x['Placement Option'] == \"higher_studies\" else False, axis = 1) \n",
    "num_rows = len(details[details == True].index) \n",
    "num_rows"
   ]
  },
  {
   "cell_type": "code",
   "execution_count": 30,
   "metadata": {},
   "outputs": [
    {
     "data": {
      "text/plain": [
       "0"
      ]
     },
     "execution_count": 30,
     "metadata": {},
     "output_type": "execute_result"
    }
   ],
   "source": [
    "# NaN\n",
    "details = df.apply(lambda x : True if x['Placement Option'] == \"NaN\" else False, axis = 1) \n",
    "num_rows = len(details[details == True].index) \n",
    "num_rows"
   ]
  },
  {
   "cell_type": "code",
   "execution_count": 32,
   "metadata": {},
   "outputs": [
    {
     "data": {
      "text/plain": [
       "1121"
      ]
     },
     "execution_count": 32,
     "metadata": {},
     "output_type": "execute_result"
    }
   ],
   "source": [
    "# crt+coding\n",
    "\n",
    "details = df.apply(lambda x : True if x['Training Option'] == \"crt+coding\" else False, axis = 1) \n",
    "num_rows = len(details[details == True].index) \n",
    "num_rows"
   ]
  },
  {
   "cell_type": "code",
   "execution_count": 33,
   "metadata": {},
   "outputs": [
    {
     "data": {
      "text/plain": [
       "146"
      ]
     },
     "execution_count": 33,
     "metadata": {},
     "output_type": "execute_result"
    }
   ],
   "source": [
    "# crt_only\n",
    "\n",
    "details = df.apply(lambda x : True if x['Training Option'] == \"crt-only\" else False, axis = 1) \n",
    "num_rows = len(details[details == True].index) \n",
    "num_rows"
   ]
  },
  {
   "cell_type": "code",
   "execution_count": 66,
   "metadata": {},
   "outputs": [
    {
     "data": {
      "text/plain": [
       "<matplotlib.axes._subplots.AxesSubplot at 0x24163354848>"
      ]
     },
     "execution_count": 66,
     "metadata": {},
     "output_type": "execute_result"
    },
    {
     "data": {
      "image/png": "[encoded data removed]",
      "text/plain": [
       "<Figure size 504x432 with 1 Axes>"
      ]
     },
     "metadata": {},
     "output_type": "display_data"
    }
   ],
   "source": [
    "sns.set(font_scale=1.1)\n",
    "df['Training Option'].value_counts().plot(kind='bar', figsize=(7, 6), rot=0)\n",
    "\n",
    "\n"
   ]
  },
  {
   "cell_type": "code",
   "execution_count": 86,
   "metadata": {},
   "outputs": [
    {
     "data": {
      "image/png": "[encoded data removed]",
      "text/plain": [
       "<Figure size 432x288 with 1 Axes>"
      ]
     },
     "metadata": {},
     "output_type": "display_data"
    }
   ],
   "source": [
    "\n",
    "fig = plt.figure()\n",
    "ax = fig.add_axes([0,0,1,1])\n",
    "ax.axis('equal')\n",
    "lab=['Crt+coding','Crt']\n",
    "ax.pie(df['Training Option'].value_counts(),labels=lab,autopct='%1.2f%%')\n",
    "plt.show()"
   ]
  },
  {
   "cell_type": "code",
   "execution_count": 90,
   "metadata": {},
   "outputs": [
    {
     "data": {
      "text/plain": [
       "7461332.140000001"
      ]
     },
     "execution_count": 90,
     "metadata": {},
     "output_type": "execute_result"
    }
   ],
   "source": [
    "df['CRT Amount'].sum()"
   ]
  },
  {
   "cell_type": "code",
   "execution_count": null,
   "metadata": {},
   "outputs": [],
   "source": []
  }
 ],
 "metadata": {
  "kernelspec": {
   "display_name": "Python 3",
   "language": "python",
   "name": "python3"
  },
  "language_info": {
   "codemirror_mode": {
    "name": "ipython",
    "version": 3
   },
   "file_extension": ".py",
   "mimetype": "text/x-python",
   "name": "python",
   "nbconvert_exporter": "python",
   "pygments_lexer": "ipython3",
   "version": "3.7.6"
  }
 },
 "nbformat": 4,
 "nbformat_minor": 4
}
